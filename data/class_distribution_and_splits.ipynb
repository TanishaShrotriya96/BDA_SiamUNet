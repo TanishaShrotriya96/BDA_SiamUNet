{
 "cells": [
  {
   "cell_type": "code",
   "execution_count": 2,
   "metadata": {},
   "outputs": [],
   "source": [
    "# Copyright (c) Microsoft Corporation. All rights reserved.\n",
    "# Licensed under the MIT License."
   ]
  },
  {
   "cell_type": "code",
   "execution_count": 1,
   "metadata": {},
   "outputs": [],
   "source": [
    "from IPython.core.interactiveshell import InteractiveShell\n",
    "InteractiveShell.ast_node_interactivity = 'all' # default is ‘last_expr’\n",
    "\n",
    "%load_ext autoreload\n",
    "%autoreload 2"
   ]
  },
  {
   "cell_type": "code",
   "execution_count": 2,
   "metadata": {},
   "outputs": [],
   "source": [
    "import json\n",
    "import os\n",
    "from random import shuffle\n",
    "import math\n",
    "from shapely import wkt\n",
    "\n",
    "import matplotlib.pyplot as plt\n",
    "from tqdm import tqdm\n",
    "from collections import Counter, defaultdict\n",
    "import numpy as np"
   ]
  },
  {
   "cell_type": "markdown",
   "metadata": {},
   "source": [
    "# Class distribution and splitting into train/val/test\n",
    "\n",
    "This notebook tallies the distribution of the damage and background classes."
   ]
  },
  {
   "cell_type": "markdown",
   "metadata": {},
   "source": [
    "## Look at a label JSON\n",
    "\n",
    "Examine one JSON file in the `labels` folder..."
   ]
  },
  {
   "cell_type": "code",
   "execution_count": 87,
   "metadata": {},
   "outputs": [],
   "source": [
    "label_path = '../../data/challenge_data/train/labels/hurricane-matthew_00000000_post_disaster.json'"
   ]
  },
  {
   "cell_type": "code",
   "execution_count": 88,
   "metadata": {},
   "outputs": [],
   "source": [
    "with open(label_path) as f:\n",
    "    label_json = json.load(f)"
   ]
  },
  {
   "cell_type": "code",
   "execution_count": 89,
   "metadata": {},
   "outputs": [
    {
     "data": {
      "text/plain": [
       "dict_keys(['features', 'metadata'])"
      ]
     },
     "execution_count": 89,
     "metadata": {},
     "output_type": "execute_result"
    }
   ],
   "source": [
    "label_json.keys()"
   ]
  },
  {
   "cell_type": "code",
   "execution_count": 90,
   "metadata": {},
   "outputs": [
    {
     "data": {
      "text/plain": [
       "dict_keys(['lng_lat', 'xy'])"
      ]
     },
     "execution_count": 90,
     "metadata": {},
     "output_type": "execute_result"
    }
   ],
   "source": [
    "label_json['features'].keys()"
   ]
  },
  {
   "cell_type": "code",
   "execution_count": 91,
   "metadata": {},
   "outputs": [
    {
     "data": {
      "text/plain": [
       "dict_keys(['sensor', 'provider_asset_type', 'gsd', 'capture_date', 'off_nadir_angle', 'pan_resolution', 'sun_azimuth', 'sun_elevation', 'target_azimuth', 'disaster', 'disaster_type', 'catalog_id', 'original_width', 'original_height', 'width', 'height', 'id', 'img_name'])"
      ]
     },
     "execution_count": 91,
     "metadata": {},
     "output_type": "execute_result"
    }
   ],
   "source": [
    "label_json['metadata'].keys()"
   ]
  },
  {
   "cell_type": "code",
   "execution_count": 92,
   "metadata": {},
   "outputs": [
    {
     "data": {
      "text/plain": [
       "{'properties': {'feature_type': 'building',\n",
       "  'subtype': 'minor-damage',\n",
       "  'uid': '6dd06e25-353d-4ca2-8a93-bbdd44b10435'},\n",
       " 'wkt': 'POLYGON ((184.3848180327538 1022.977380861319, 184.4809847188476 1015.871163903935, 203.263854348678 1016.01783797561, 203.5772080801356 1022.977565618902, 184.3848180327538 1022.977380861319))'}"
      ]
     },
     "execution_count": 92,
     "metadata": {},
     "output_type": "execute_result"
    }
   ],
   "source": [
    "label_json['features']['xy'][0]"
   ]
  },
  {
   "cell_type": "code",
   "execution_count": 93,
   "metadata": {},
   "outputs": [],
   "source": [
    "feat_shape = wkt.loads(label_json['features']['xy'][0]['wkt'])"
   ]
  },
  {
   "cell_type": "code",
   "execution_count": 94,
   "metadata": {},
   "outputs": [
    {
     "data": {
      "text/plain": [
       "133.53150074518555"
      ]
     },
     "execution_count": 94,
     "metadata": {},
     "output_type": "execute_result"
    }
   ],
   "source": [
    "feat_shape.area"
   ]
  },
  {
   "cell_type": "code",
   "execution_count": 95,
   "metadata": {},
   "outputs": [
    {
     "data": {
      "text/plain": [
       "25928.990821215957"
      ]
     },
     "execution_count": 95,
     "metadata": {},
     "output_type": "execute_result"
    }
   ],
   "source": [
    "total_area = 0\n",
    "\n",
    "for feat in label_json['features']['xy']:\n",
    "    feat_shape = wkt.loads(feat['wkt'])\n",
    "    total_area += feat_shape.area\n",
    "\n",
    "total_area  # this looks about right from visualizing this tile's mask - it's < 200*200 squared pixels"
   ]
  },
  {
   "cell_type": "markdown",
   "metadata": {},
   "source": [
    "## Aggregate building counts and area\n",
    "\n",
    "Example file names\n",
    "```\n",
    "joplin-tornado_00000004_post_disaster.json\n",
    "joplin-tornado_00000004_pre_disaster.json\n",
    "```\n",
    "\n",
    "`subtypes` are:\n",
    "```\n",
    "{'destroyed', 'major-damage', 'minor-damage', 'no-damage', 'un-classified'}\n",
    "```\n",
    "\n",
    "There are some features without a `sub-types` field. "
   ]
  },
  {
   "cell_type": "code",
   "execution_count": 96,
   "metadata": {},
   "outputs": [],
   "source": [
    "label_dirs = [\n",
    "    '../../data/challenge_data/train/labels',\n",
    "    '../../data/challenge_data//test/labels',\n",
    "    '../../data/challenge_data/hold/labels',\n",
    "    '../../data/challenge_data/tier3/labels'\n",
    "]"
   ]
  },
  {
   "cell_type": "code",
   "execution_count": 97,
   "metadata": {},
   "outputs": [
    {
     "name": "stderr",
     "output_type": "stream",
     "text": [
      "100%|██████████| 5598/5598 [00:23<00:00, 238.72it/s] \n",
      "100%|██████████| 1866/1866 [00:07<00:00, 240.02it/s]\n",
      "100%|██████████| 1866/1866 [00:07<00:00, 240.18it/s]\n",
      "100%|██████████| 12738/12738 [00:22<00:00, 568.82it/s] \n"
     ]
    }
   ],
   "source": [
    "# area breakdown by disaster\n",
    "pre_areas = defaultdict(lambda: defaultdict(float))\n",
    "post_areas = defaultdict(lambda: defaultdict(float))\n",
    "\n",
    "# count of building features\n",
    "pre_counts = defaultdict(lambda: defaultdict(int))\n",
    "post_counts = defaultdict(lambda: defaultdict(int))\n",
    "\n",
    "feature_types = set()\n",
    "\n",
    "# building features without a subtype attribute\n",
    "buildings_no_type = []\n",
    "\n",
    "for label_dir in label_dirs:\n",
    "    for p in tqdm(os.listdir(label_dir)):\n",
    "        \n",
    "        if not p.endswith('.json'):\n",
    "            continue\n",
    "            \n",
    "        areas_dict = pre_areas if p.endswith('pre_disaster.json') else post_areas\n",
    "        counts_dict = pre_counts if p.endswith('pre_disaster.json') else post_counts\n",
    "        \n",
    "        with open(os.path.join(label_dir, p)) as f:\n",
    "            label_json = json.load(f)\n",
    "            \n",
    "            disaster_name = label_json['metadata']['disaster']\n",
    "            \n",
    "            for feat in label_json['features']['xy']:\n",
    "                \n",
    "                if feat['properties']['feature_type'] != 'building':\n",
    "                    feature_types.add(feat['properties']['feature_type'])\n",
    "                    continue\n",
    "                \n",
    "                if 'subtype' in feat['properties']:\n",
    "                    damage_class = feat['properties']['subtype']\n",
    "                else:\n",
    "                    damage_class = 'no-subtype'  # usually for pre images\n",
    "                    buildings_no_type.append((p, feat))    \n",
    "                    \n",
    "                feat_shape = wkt.loads(feat['wkt'])\n",
    "                \n",
    "                areas_dict[disaster_name][damage_class] += feat_shape.area\n",
    "                \n",
    "                counts_dict[disaster_name][damage_class] += 1"
   ]
  },
  {
   "cell_type": "code",
   "execution_count": 98,
   "metadata": {},
   "outputs": [
    {
     "data": {
      "text/plain": [
       "425368"
      ]
     },
     "execution_count": 98,
     "metadata": {},
     "output_type": "execute_result"
    }
   ],
   "source": [
    "len(buildings_no_type)"
   ]
  },
  {
   "cell_type": "code",
   "execution_count": 99,
   "metadata": {},
   "outputs": [
    {
     "data": {
      "text/plain": [
       "19"
      ]
     },
     "execution_count": 99,
     "metadata": {},
     "output_type": "execute_result"
    }
   ],
   "source": [
    "len(post_areas)"
   ]
  },
  {
   "cell_type": "code",
   "execution_count": 100,
   "metadata": {},
   "outputs": [
    {
     "data": {
      "text/plain": [
       "dict_keys(['guatemala-volcano', 'hurricane-florence', 'hurricane-harvey', 'hurricane-matthew', 'hurricane-michael', 'mexico-earthquake', 'midwest-flooding', 'palu-tsunami', 'santa-rosa-wildfire', 'socal-fire', 'joplin-tornado', 'lower-puna-volcano', 'moore-tornado', 'nepal-flooding', 'pinery-bushfire', 'portugal-wildfire', 'sunda-tsunami', 'tuscaloosa-tornado', 'woolsey-fire'])"
      ]
     },
     "execution_count": 100,
     "metadata": {},
     "output_type": "execute_result"
    }
   ],
   "source": [
    "post_areas.keys()"
   ]
  },
  {
   "cell_type": "code",
   "execution_count": 101,
   "metadata": {},
   "outputs": [],
   "source": [
    "areas_and_counts_by_disaster = {\n",
    "    'pre_areas': pre_areas,\n",
    "    'post_areas': post_areas,\n",
    "    'pre_counts': pre_counts,\n",
    "    'post_counts': post_counts\n",
    "}"
   ]
  },
  {
   "cell_type": "code",
   "execution_count": 102,
   "metadata": {},
   "outputs": [],
   "source": [
    "with open('areas_and_counts_by_disaster.json', 'w') as f:\n",
    "    json.dump(areas_and_counts_by_disaster, f, indent=4)"
   ]
  },
  {
   "cell_type": "code",
   "execution_count": 103,
   "metadata": {},
   "outputs": [],
   "source": [
    "wind_disasters = ['hurricane-matthew', 'tuscaloosa-tornado', 'hurricane-michael', 'moore-tornado', 'joplin-tornado']\n",
    "\n",
    "damage_classes = ['no-damage', 'minor-damage', 'major-damage', 'destroyed', 'un-classified']"
   ]
  },
  {
   "cell_type": "code",
   "execution_count": 104,
   "metadata": {},
   "outputs": [],
   "source": [
    "# store data in dic as {disaster_name: [counts]}\n",
    "wind_post_counts = defaultdict(list)  \n",
    "wind_post_areas = defaultdict(list) \n",
    "\n",
    "for disaster in wind_disasters:\n",
    "    for damage_class in damage_classes:\n",
    "        wind_post_counts[disaster].append(post_counts[disaster][damage_class])\n",
    "        wind_post_areas[disaster].append(post_areas[disaster][damage_class])"
   ]
  },
  {
   "cell_type": "code",
   "execution_count": 105,
   "metadata": {},
   "outputs": [
    {
     "data": {
      "text/plain": [
       "defaultdict(int,\n",
       "            {'no-damage': 19453,\n",
       "             'un-classified': 586,\n",
       "             'destroyed': 1584,\n",
       "             'minor-damage': 886,\n",
       "             'major-damage': 449})"
      ]
     },
     "execution_count": 105,
     "metadata": {},
     "output_type": "execute_result"
    }
   ],
   "source": [
    "post_counts['moore-tornado']"
   ]
  },
  {
   "cell_type": "code",
   "execution_count": 106,
   "metadata": {},
   "outputs": [
    {
     "data": {
      "text/plain": [
       "defaultdict(list,\n",
       "            {'hurricane-matthew': [4058, 12331, 2717, 3524, 1334],\n",
       "             'tuscaloosa-tornado': [10499, 2036, 466, 1097, 908],\n",
       "             'hurricane-michael': [22692, 8292, 2919, 1225, 373],\n",
       "             'moore-tornado': [19453, 886, 449, 1584, 586],\n",
       "             'joplin-tornado': [8225, 2192, 1005, 3274, 656]})"
      ]
     },
     "execution_count": 106,
     "metadata": {},
     "output_type": "execute_result"
    }
   ],
   "source": [
    "wind_post_counts"
   ]
  },
  {
   "cell_type": "code",
   "execution_count": 107,
   "metadata": {},
   "outputs": [
    {
     "data": {
      "image/png": "[encoded data removed]",
      "text/plain": [
       "<Figure size 1800x900 with 1 Axes>"
      ]
     },
     "metadata": {
      "needs_background": "light"
     },
     "output_type": "display_data"
    }
   ],
   "source": [
    "# Reference: https://matplotlib.org/3.3.1/gallery/lines_bars_and_markers/barchart.html\n",
    "num_classes = len(damage_classes)\n",
    "\n",
    "x = np.arange(num_classes)  # the label locations\n",
    "width = 0.8/num_classes  # the width of the bars\n",
    "\n",
    "fig, ax = plt.subplots(1, 1, figsize=(12, 6), dpi=150)\n",
    "\n",
    "for i, (disaster, li) in enumerate(wind_post_counts.items()):\n",
    "    rect = ax.bar(x - (i - 2) * width, li, width, label=disaster)\n",
    "\n",
    "_ = ax.set_ylabel('Building counts')\n",
    "_ = ax.set_title('Class distribution by building counts')\n",
    "_ = ax.set_xticks(x)\n",
    "x_labels = ax.set_xticklabels(damage_classes, rotation=45)\n",
    "_ = ax.legend()"
   ]
  },
  {
   "cell_type": "code",
   "execution_count": 108,
   "metadata": {},
   "outputs": [
    {
     "data": {
      "image/png": "[encoded data removed]",
      "text/plain": [
       "<Figure size 1800x900 with 1 Axes>"
      ]
     },
     "metadata": {
      "needs_background": "light"
     },
     "output_type": "display_data"
    }
   ],
   "source": [
    "num_classes = len(damage_classes)\n",
    "\n",
    "x = np.arange(num_classes)  # the label locations\n",
    "width = 0.8/num_classes  # the width of the bars\n",
    "\n",
    "fig, ax = plt.subplots(1, 1, figsize=(12, 6), dpi=150)\n",
    "\n",
    "for i, (disaster, li) in enumerate(wind_post_areas.items()):\n",
    "    rect = ax.bar(x - (i - 2) * width, li, width, label=disaster)\n",
    "\n",
    "_ = ax.set_ylabel('Building area (pixels)')\n",
    "_ = ax.set_title('Class distribution by building area')\n",
    "_ = ax.set_xticks(x)\n",
    "x_labels = ax.set_xticklabels(damage_classes, rotation=45)\n",
    "_ = ax.legend()"
   ]
  },
  {
   "cell_type": "markdown",
   "metadata": {},
   "source": [
    "## Splitting into train/val/test - wind disasters\n",
    "\n",
    "We do not use the splits released by the xView2 competition.\n",
    "\n",
    "We split at the tile level (1024 by 1024 pixels), not at the chip level. "
   ]
  },
  {
   "cell_type": "code",
   "execution_count": 109,
   "metadata": {},
   "outputs": [
    {
     "name": "stderr",
     "output_type": "stream",
     "text": [
      "100%|██████████| 5598/5598 [00:00<00:00, 317568.08it/s]\n",
      "100%|██████████| 1866/1866 [00:00<00:00, 293867.43it/s]\n",
      "100%|██████████| 1866/1866 [00:00<00:00, 266499.97it/s]\n",
      "100%|██████████| 12738/12738 [00:00<00:00, 382413.89it/s]"
     ]
    },
    {
     "name": "stdout",
     "output_type": "stream",
     "text": [
      "Wall time: 121 ms\n"
     ]
    },
    {
     "name": "stderr",
     "output_type": "stream",
     "text": [
      "\n"
     ]
    }
   ],
   "source": [
    "%%time\n",
    "\n",
    "xbd_root = '../../data/'\n",
    "wind_disasters = ['hurricane-matthew', 'tuscaloosa-tornado', 'hurricane-michael', 'moore-tornado', 'joplin-tornado']\n",
    "label_dirs = [\n",
    "    '../../data/challenge_data/train/labels',\n",
    "    '../../data/challenge_data//test/labels',\n",
    "    '../../data/challenge_data/hold/labels',\n",
    "    '../../data/challenge_data/tier3/labels'\n",
    "]\n",
    "all_files = defaultdict(list)  # wind disaster to list of files (no extension)\n",
    "\n",
    "wind_disasters_tup = tuple(wind_disasters)\n",
    "\n",
    "for label_dir in label_dirs:\n",
    "    for p in tqdm(os.listdir(label_dir)):\n",
    "        \n",
    "        if not p.startswith(wind_disasters_tup):\n",
    "            continue\n",
    "        \n",
    "        if not p.endswith('_post_disaster.json'):\n",
    "            continue\n",
    "        \n",
    "        full_path = os.path.join(label_dir, p)\n",
    "        rel_path = full_path.split(xbd_root)[1]\n",
    "        \n",
    "        # example: hurricane-matthew_00000000_post_disaster.json\n",
    "        disaster_name = p.split('_')[0]\n",
    "        file = rel_path.split('_post_disaster.json')[0]\n",
    "        \n",
    "        all_files[disaster_name].append(file)"
   ]
  },
  {
   "cell_type": "code",
   "execution_count": 110,
   "metadata": {},
   "outputs": [
    {
     "name": "stdout",
     "output_type": "stream",
     "text": [
      "hurricane-matthew, 405\n",
      "hurricane-michael, 550\n",
      "joplin-tornado, 149\n",
      "moore-tornado, 227\n",
      "tuscaloosa-tornado, 343\n"
     ]
    }
   ],
   "source": [
    "for disaster_name, files in all_files.items():\n",
    "    print(f'{disaster_name}, {len(files)}')"
   ]
  },
  {
   "cell_type": "code",
   "execution_count": 111,
   "metadata": {},
   "outputs": [
    {
     "name": "stdout",
     "output_type": "stream",
     "text": [
      "hurricane-matthew, train 324, val 41, test 40\n",
      "hurricane-michael, train 440, val 55, test 55\n",
      "joplin-tornado, train 120, val 15, test 14\n",
      "moore-tornado, train 182, val 23, test 22\n",
      "tuscaloosa-tornado, train 275, val 35, test 33\n"
     ]
    }
   ],
   "source": [
    "# split randomly\n",
    "\n",
    "wind_splits = defaultdict(dict)  # wind disaster to train/val/test\n",
    "\n",
    "for disaster_name, files in all_files.items():\n",
    "    shuffle(files)\n",
    "    \n",
    "    num_train_tiles = math.ceil(0.8 * len(files))\n",
    "    num_val_tiles = math.ceil(0.1 * len(files))\n",
    "    \n",
    "    wind_splits[disaster_name]['train'] = sorted(files[:num_train_tiles])\n",
    "    wind_splits[disaster_name]['val'] = sorted(files[num_train_tiles:num_train_tiles + num_val_tiles])\n",
    "    wind_splits[disaster_name]['test'] = sorted(files[num_train_tiles + num_val_tiles:])\n",
    "    \n",
    "    print(f\"{disaster_name}, train {len(wind_splits[disaster_name]['train'])}, val {len(wind_splits[disaster_name]['val'])}, test {len(wind_splits[disaster_name]['test'])}\")"
   ]
  },
  {
   "cell_type": "code",
   "execution_count": 112,
   "metadata": {},
   "outputs": [],
   "source": [
    "with open('../constants/splits/wind_disaster_splits.json', 'w') as f:\n",
    "    json.dump(wind_splits, f, indent=4)"
   ]
  },
  {
   "cell_type": "markdown",
   "metadata": {},
   "source": [
    "## Splitting into train/val/test - LOO subset disasters"
   ]
  },
  {
   "cell_type": "code",
   "execution_count": 122,
   "metadata": {},
   "outputs": [
    {
     "name": "stderr",
     "output_type": "stream",
     "text": [
      "100%|██████████| 5598/5598 [00:00<00:00, 559827.23it/s]\n",
      "100%|██████████| 1866/1866 [00:00<00:00, 623631.18it/s]\n",
      "100%|██████████| 1866/1866 [00:00<00:00, 622045.09it/s]\n",
      "100%|██████████| 12738/12738 [00:00<00:00, 636817.10it/s]"
     ]
    },
    {
     "name": "stdout",
     "output_type": "stream",
     "text": [
      "Wall time: 84 ms\n"
     ]
    },
    {
     "name": "stderr",
     "output_type": "stream",
     "text": [
      "\n"
     ]
    }
   ],
   "source": [
    "%%time\n",
    "\n",
    "xbd_root = '../../data/'\n",
    "\n",
    "wind_disasters = ['hurricane-matthew', 'tuscaloosa-tornado', 'hurricane-michael', 'moore-tornado', 'joplin-tornado']\n",
    "\n",
    "flood_disasters = ['midwest-flooding', 'nepal-flooding'] + ['hurricane-harvey', 'hurricane-florence']\n",
    "\n",
    "earthquake_disasters = ['mexico-earthquake', 'palu-tsunami', 'sunda-tsunami']\n",
    "\n",
    "others = ['guatemala-volcano', 'lower-puna-volcano', 'socal-fire', 'santa-rosa-wildfire','pinery-bushfire', 'portugal-wildfire', 'woolsey-fire']\n",
    "\n",
    "subset_disasters = flood_disasters\n",
    "label_dirs = [\n",
    "    xbd_root + 'challenge_data/train/labels',\n",
    "    xbd_root + 'challenge_data/test/labels',\n",
    "    xbd_root + 'challenge_data/hold/labels',\n",
    "    xbd_root + 'challenge_data/tier3/labels'\n",
    "]\n",
    "all_files = defaultdict(list)  # subset disaster to list of files (no extension)\n",
    "\n",
    "subset_disasters_tup = tuple(subset_disasters)\n",
    "\n",
    "for label_dir in label_dirs:\n",
    "    for p in tqdm(os.listdir(label_dir)):\n",
    "        \n",
    "        if not p.startswith(subset_disasters_tup):\n",
    "            continue\n",
    "        \n",
    "        if not p.endswith('_post_disaster.json'):\n",
    "            continue\n",
    "        \n",
    "        #full_path = os.path.join(label_dir, p)\n",
    "        full_path = label_dir+\"/\"+p\n",
    "        rel_path = full_path.split(xbd_root)[1]\n",
    "        \n",
    "        # example: hurricane-matthew_00000000_post_disaster.json\n",
    "        disaster_name = p.split('_')[0]\n",
    "        file = rel_path.split('_post_disaster.json')[0]\n",
    "        \n",
    "        all_files[disaster_name].append(file)"
   ]
  },
  {
   "cell_type": "code",
   "execution_count": 114,
   "metadata": {},
   "outputs": [
    {
     "name": "stdout",
     "output_type": "stream",
     "text": [
      "hurricane-florence, 546\n",
      "hurricane-harvey, 522\n",
      "midwest-flooding, 445\n",
      "nepal-flooding, 619\n"
     ]
    }
   ],
   "source": [
    "for disaster_name, files in all_files.items():\n",
    "    print(f'{disaster_name}, {len(files)}')"
   ]
  },
  {
   "cell_type": "code",
   "execution_count": 125,
   "metadata": {},
   "outputs": [
    {
     "name": "stdout",
     "output_type": "stream",
     "text": [
      "hurricane-florence, train 437, val 109, test 0\n",
      "hurricane-harvey, train 418, val 104, test 0\n",
      "midwest-flooding, train 356, val 89, test 0\n",
      "nepal-flooding, train 0, val 0, test 619\n"
     ]
    }
   ],
   "source": [
    "# split leave one disaster out\n",
    "disaster_to_leave_out = 'nepal-flooding' #'nepal-flooding' # 'joplin-tornado'\n",
    "\n",
    "subset_splits = defaultdict(dict)  # subset disaster to train/val/test\n",
    "\n",
    "for disaster_name, files in all_files.items():\n",
    "    \n",
    "    if disaster_name == disaster_to_leave_out:\n",
    "        subset_splits[disaster_name]['train'] = []\n",
    "        subset_splits[disaster_name]['val'] = []\n",
    "        subset_splits[disaster_name]['test'] = files\n",
    "\n",
    "    else:\n",
    "        shuffle(files)\n",
    "        num_train_tiles = math.ceil(0.8 * len(files))\n",
    "        num_val_tiles = math.ceil(0.2 * len(files))\n",
    "        subset_splits[disaster_name]['train'] = sorted(files[:num_train_tiles])\n",
    "        subset_splits[disaster_name]['val'] = sorted(files[num_train_tiles:num_train_tiles + num_val_tiles])\n",
    "        subset_splits[disaster_name]['test'] = []\n",
    "    \n",
    "    print(f\"{disaster_name}, train {len(subset_splits[disaster_name]['train'])}, val {len(subset_splits[disaster_name]['val'])}, test {len(subset_splits[disaster_name]['test'])}\")"
   ]
  },
  {
   "cell_type": "code",
   "execution_count": 127,
   "metadata": {},
   "outputs": [
    {
     "ename": "FileNotFoundError",
     "evalue": "[Errno 2] No such file or directory: '../constants/splits_generalizability/LOO_nepal-flooding_subset_disaster_splits.json'",
     "output_type": "error",
     "traceback": [
      "\u001b[1;31m---------------------------------------------------------------------------\u001b[0m",
      "\u001b[1;31mFileNotFoundError\u001b[0m                         Traceback (most recent call last)",
      "\u001b[1;32m~\\AppData\\Local\\Temp\\ipykernel_27680\\2696876372.py\u001b[0m in \u001b[0;36m<module>\u001b[1;34m\u001b[0m\n\u001b[1;32m----> 1\u001b[1;33m \u001b[1;32mwith\u001b[0m \u001b[0mopen\u001b[0m\u001b[1;33m(\u001b[0m\u001b[1;34m'../constants/splits_generalizability/LOO_'\u001b[0m \u001b[1;33m+\u001b[0m \u001b[0mdisaster_to_leave_out\u001b[0m \u001b[1;33m+\u001b[0m \u001b[1;34m'_subset_disaster_splits.json'\u001b[0m\u001b[1;33m,\u001b[0m \u001b[1;34m'w'\u001b[0m\u001b[1;33m)\u001b[0m \u001b[1;32mas\u001b[0m \u001b[0mf\u001b[0m\u001b[1;33m:\u001b[0m\u001b[1;33m\u001b[0m\u001b[1;33m\u001b[0m\u001b[0m\n\u001b[0m\u001b[0;32m      2\u001b[0m     \u001b[0mjson\u001b[0m\u001b[1;33m.\u001b[0m\u001b[0mdump\u001b[0m\u001b[1;33m(\u001b[0m\u001b[0msubset_splits\u001b[0m\u001b[1;33m,\u001b[0m \u001b[0mf\u001b[0m\u001b[1;33m,\u001b[0m \u001b[0mindent\u001b[0m\u001b[1;33m=\u001b[0m\u001b[1;36m4\u001b[0m\u001b[1;33m)\u001b[0m\u001b[1;33m\u001b[0m\u001b[1;33m\u001b[0m\u001b[0m\n",
      "\u001b[1;31mFileNotFoundError\u001b[0m: [Errno 2] No such file or directory: '../constants/splits_generalizability/LOO_nepal-flooding_subset_disaster_splits.json'"
     ]
    }
   ],
   "source": [
    "with open('../constants/splits_generalizability/LOO_' + disaster_to_leave_out + '_subset_disaster_splits.json', 'w') as f:\n",
    "    json.dump(subset_splits, f, indent=4)"
   ]
  },
  {
   "cell_type": "markdown",
   "metadata": {},
   "source": [
    "## Splitting into train/val/test - LOO all disasters"
   ]
  },
  {
   "cell_type": "code",
   "execution_count": null,
   "metadata": {},
   "outputs": [
    {
     "name": "stderr",
     "output_type": "stream",
     "text": [
      "100%|██████████| 5598/5598 [00:00<00:00, 762798.93it/s]\n",
      "100%|██████████| 1866/1866 [00:00<00:00, 725219.72it/s]\n",
      "100%|██████████| 1866/1866 [00:00<00:00, 766634.47it/s]\n",
      "100%|██████████| 12738/12738 [00:00<00:00, 762339.57it/s]"
     ]
    },
    {
     "name": "stdout",
     "output_type": "stream",
     "text": [
      "CPU times: user 39.4 ms, sys: 6.25 ms, total: 45.7 ms\n",
      "Wall time: 43.4 ms\n"
     ]
    },
    {
     "name": "stderr",
     "output_type": "stream",
     "text": [
      "\n"
     ]
    }
   ],
   "source": [
    "%%time\n",
    "\n",
    "xbd_root = './xBD/'\n",
    "all_disasters =['guatemala-volcano', 'hurricane-florence', 'hurricane-harvey', 'hurricane-matthew', 'hurricane-michael', 'mexico-earthquake', 'midwest-flooding', 'palu-tsunami', 'santa-rosa-wildfire', 'socal-fire', 'joplin-tornado', 'lower-puna-volcano', 'moore-tornado', 'nepal-flooding', 'pinery-bushfire', 'portugal-wildfire', 'sunda-tsunami', 'tuscaloosa-tornado', 'woolsey-fire']\n",
    "label_dirs = [\n",
    "    xbd_root + 'raw/train/labels',\n",
    "    xbd_root + 'raw/test/labels',\n",
    "    xbd_root + 'raw/hold/labels',\n",
    "    xbd_root + 'raw_tier3/labels'\n",
    "]\n",
    "all_files = defaultdict(list)  # wind disaster to list of files (no extension)\n",
    "\n",
    "all_disasters_tup = tuple(all_disasters)\n",
    "\n",
    "for label_dir in label_dirs:\n",
    "    for p in tqdm(os.listdir(label_dir)):\n",
    "        \n",
    "        if not p.startswith(all_disasters_tup):\n",
    "            continue\n",
    "        \n",
    "        if not p.endswith('_post_disaster.json'):\n",
    "            continue\n",
    "        \n",
    "        full_path = os.path.join(label_dir, p)\n",
    "        rel_path = full_path.split(xbd_root)[1]\n",
    "        \n",
    "        # example: hurricane-matthew_00000000_post_disaster.json\n",
    "        disaster_name = p.split('_')[0]\n",
    "        file = rel_path.split('_post_disaster.json')[0]\n",
    "        \n",
    "        all_files[disaster_name].append(file)"
   ]
  },
  {
   "cell_type": "code",
   "execution_count": null,
   "metadata": {},
   "outputs": [
    {
     "name": "stdout",
     "output_type": "stream",
     "text": [
      "palu-tsunami, 196\n",
      "hurricane-michael, 550\n",
      "midwest-flooding, 445\n",
      "mexico-earthquake, 193\n",
      "socal-fire, 1403\n",
      "santa-rosa-wildfire, 377\n",
      "hurricane-matthew, 405\n",
      "hurricane-harvey, 522\n",
      "guatemala-volcano, 28\n",
      "hurricane-florence, 546\n",
      "lower-puna-volcano, 291\n",
      "nepal-flooding, 619\n",
      "joplin-tornado, 149\n",
      "moore-tornado, 227\n",
      "pinery-bushfire, 1845\n",
      "portugal-wildfire, 1869\n",
      "sunda-tsunami, 148\n",
      "tuscaloosa-tornado, 343\n",
      "woolsey-fire, 878\n"
     ]
    }
   ],
   "source": [
    "for disaster_name, files in all_files.items():\n",
    "    print(f'{disaster_name}, {len(files)}')"
   ]
  },
  {
   "cell_type": "code",
   "execution_count": null,
   "metadata": {},
   "outputs": [],
   "source": [
    "# split leave one disaster out\n",
    "disaster_to_leave_out = 'joplin-tornado' #'nepal-flooding' # 'joplin-tornado'\n",
    "all_splits = defaultdict(dict)  # all disaster to train/val/test\n",
    "\n",
    "for disaster_name, files in all_files.items():\n",
    "    \n",
    "    if disaster_name == disaster_to_leave_out:\n",
    "        all_splits[disaster_name]['train'] = []\n",
    "        all_splits[disaster_name]['val'] = []\n",
    "        all_splits[disaster_name]['test'] = files\n",
    "\n",
    "    else:\n",
    "        shuffle(files)\n",
    "        num_train_tiles = math.ceil(0.8 * len(files))\n",
    "        num_val_tiles = math.ceil(0.2 * len(files))\n",
    "        all_splits[disaster_name]['train'] = sorted(files[:num_train_tiles])\n",
    "        all_splits[disaster_name]['val'] = sorted(files[num_train_tiles:num_train_tiles + num_val_tiles])\n",
    "        all_splits[disaster_name]['test'] = []\n",
    "    \n",
    "    print(f\"{disaster_name}, train {len(all_splits[disaster_name]['train'])}, val {len(all_splits[disaster_name]['val'])}, test {len(all_splits[disaster_name]['test'])}\")"
   ]
  },
  {
   "cell_type": "code",
   "execution_count": null,
   "metadata": {},
   "outputs": [],
   "source": [
    "with open('./constants/splits_generalizability/LOO_' + disaster_to_leave_out + '_all_disaster_splits.json', 'w') as f:\n",
    "    json.dump(all_splits, f, indent=4)"
   ]
  },
  {
   "cell_type": "markdown",
   "metadata": {},
   "source": [
    "## Splittnig into train/val/test - all disasters (SG: final model deliverable 90%/10%/0%)"
   ]
  },
  {
   "cell_type": "code",
   "execution_count": 14,
   "metadata": {},
   "outputs": [
    {
     "name": "stderr",
     "output_type": "stream",
     "text": [
      "100%|██████████| 5598/5598 [00:00<00:00, 1670797.25it/s]\n",
      "100%|██████████| 1866/1866 [00:00<00:00, 1867025.59it/s]\n",
      "100%|██████████| 1866/1866 [00:00<00:00, 1866580.32it/s]\n",
      "100%|██████████| 12738/12738 [00:00<00:00, 2546327.54it/s]"
     ]
    },
    {
     "name": "stdout",
     "output_type": "stream",
     "text": [
      "Wall time: 50.5 ms\n"
     ]
    },
    {
     "name": "stderr",
     "output_type": "stream",
     "text": [
      "\n"
     ]
    }
   ],
   "source": [
    "%%time\n",
    "\n",
    "xbd_root = '../../data/'\n",
    "#all_disasters =['guatemala-volcano', 'hurricane-florence', 'hurricane-harvey', 'hurricane-matthew', 'hurricane-michael', 'mexico-earthquake', 'midwest-flooding', 'palu-tsunami', 'santa-rosa-wildfire', 'socal-fire', 'joplin-tornado', 'lower-puna-volcano', 'moore-tornado', 'nepal-flooding', 'pinery-bushfire', 'portugal-wildfire', 'sunda-tsunami', 'tuscaloosa-tornado', 'woolsey-fire']\n",
    "#all_disasters = ['hurricane-harvey','joplin-tornado','guatemala-volcano', 'mexico-earthquake','santa-rosa-wildfire','palu-tsunami', 'midwest-flooding']\n",
    "#all_disasters = ['mexico-earthquake']\n",
    "\n",
    "all_disasters = ['hurricane-matthew','guatemala-volcano', 'mexico-earthquake']\n",
    "\n",
    "label_dirs = [\n",
    "    xbd_root + 'raw/train/labels',\n",
    "    xbd_root + 'raw/test/labels',\n",
    "    xbd_root + 'raw/hold/labels',\n",
    "    xbd_root + 'raw/tier3/labels'\n",
    "]\n",
    "all_files = defaultdict(list)  # wind disaster to list of files (no extension)\n",
    "\n",
    "all_disasters_tup = tuple(all_disasters)\n",
    "\n",
    "for label_dir in label_dirs:\n",
    "    for p in tqdm(os.listdir(label_dir)):\n",
    "        \n",
    "        if not p.startswith(all_disasters_tup):\n",
    "            continue\n",
    "        \n",
    "        if not p.endswith('_post_disaster.json'):\n",
    "            continue\n",
    "        \n",
    "        full_path = label_dir+'/'+p\n",
    "        rel_path = full_path.split(xbd_root)[1]\n",
    "        \n",
    "        # example: hurricane-matthew_00000000_post_disaster.json\n",
    "        disaster_name = p.split('_')[0]\n",
    "        file = rel_path.split('_post_disaster.json')[0]\n",
    "        \n",
    "        all_files[disaster_name].append(file)"
   ]
  },
  {
   "cell_type": "code",
   "execution_count": 15,
   "metadata": {},
   "outputs": [
    {
     "name": "stdout",
     "output_type": "stream",
     "text": [
      "guatemala-volcano, 28\n",
      "hurricane-matthew, 405\n",
      "mexico-earthquake, 193\n"
     ]
    }
   ],
   "source": [
    "for disaster_name, files in all_files.items():\n",
    "    print(f'{disaster_name}, {len(files)}')"
   ]
  },
  {
   "cell_type": "code",
   "execution_count": 16,
   "metadata": {},
   "outputs": [
    {
     "name": "stdout",
     "output_type": "stream",
     "text": [
      "guatemala-volcano, train 23, val 3\n",
      "hurricane-matthew, train 324, val 41\n",
      "mexico-earthquake, train 155, val 20\n"
     ]
    }
   ],
   "source": [
    "other_splits = defaultdict(dict)  # disasters other than the wind disasters to train/val/test\n",
    "\n",
    "for disaster_name, files in all_files.items():\n",
    "\n",
    "    \n",
    "    shuffle(files)\n",
    "    \n",
    "    num_train_tiles = math.ceil(0.8 * len(files))\n",
    "    num_val_tiles = math.ceil(0.1 * len(files))\n",
    "    \n",
    "    other_splits[disaster_name]['train'] = sorted(files[:num_train_tiles])\n",
    "    other_splits[disaster_name]['val'] = sorted(files[num_train_tiles:num_train_tiles + num_val_tiles])\n",
    "    other_splits[disaster_name]['test'] = sorted(files[num_train_tiles + num_val_tiles:])\n",
    "\n",
    "    print(f\"{disaster_name}, train {len(other_splits[disaster_name]['train'])}, val {len(other_splits[disaster_name]['val'])}\")"
   ]
  },
  {
   "cell_type": "code",
   "execution_count": 17,
   "metadata": {},
   "outputs": [],
   "source": [
    "with open('../constants/splits/final_mdl_all_disaster_splits.json', 'w') as f:\n",
    "    json.dump(other_splits, f, indent=4)"
   ]
  },
  {
   "cell_type": "markdown",
   "metadata": {},
   "source": [
    "## Splitting into train/val/test - all disasters (initial experiments with model 80%/10%/10%)\n",
    "\n",
    "Including the rest of the disasters, but consistent with the above wind disasters splits."
   ]
  },
  {
   "cell_type": "code",
   "execution_count": 13,
   "metadata": {},
   "outputs": [
    {
     "ename": "ModuleNotFoundError",
     "evalue": "No module named 'sas_blob_utils'",
     "output_type": "error",
     "traceback": [
      "\u001b[1;31m---------------------------------------------------------------------------\u001b[0m",
      "\u001b[1;31mModuleNotFoundError\u001b[0m                       Traceback (most recent call last)",
      "\u001b[1;32m~\\AppData\\Local\\Temp\\ipykernel_8928\\412647308.py\u001b[0m in \u001b[0;36m<module>\u001b[1;34m\u001b[0m\n\u001b[0;32m      1\u001b[0m \u001b[1;31m# listing blobs using the blob SDK instead of mounting it\u001b[0m\u001b[1;33m\u001b[0m\u001b[1;33m\u001b[0m\u001b[1;33m\u001b[0m\u001b[0m\n\u001b[0;32m      2\u001b[0m \u001b[1;33m\u001b[0m\u001b[0m\n\u001b[1;32m----> 3\u001b[1;33m \u001b[1;32mimport\u001b[0m \u001b[0msas_blob_utils\u001b[0m  \u001b[1;31m# https://github.com/microsoft/ai4eutils/blob/master/sas_blob_utils.py\u001b[0m\u001b[1;33m\u001b[0m\u001b[1;33m\u001b[0m\u001b[0m\n\u001b[0m",
      "\u001b[1;31mModuleNotFoundError\u001b[0m: No module named 'sas_blob_utils'"
     ]
    }
   ],
   "source": [
    "# listing blobs using the blob SDK instead of mounting it\n",
    "\n",
    "import sas_blob_utils  # https://github.com/microsoft/ai4eutils/blob/master/sas_blob_utils.py"
   ]
  },
  {
   "cell_type": "code",
   "execution_count": null,
   "metadata": {},
   "outputs": [],
   "source": [
    "container_uri = 'https://researchlabwusstorage.blob.core.windows.net/nlrc-damage-assessment?SAS_KEY'"
   ]
  },
  {
   "cell_type": "code",
   "execution_count": null,
   "metadata": {},
   "outputs": [
    {
     "name": "stderr",
     "output_type": "stream",
     "text": [
      "0it [00:00, ?it/s]"
     ]
    },
    {
     "name": "stdout",
     "output_type": "stream",
     "text": [
      "listing blobs...\n"
     ]
    },
    {
     "name": "stderr",
     "output_type": "stream",
     "text": [
      "60170it [01:09, 863.02it/s]"
     ]
    },
    {
     "name": "stdout",
     "output_type": "stream",
     "text": [
      "Enumerated 11034 matching blobs out of 60170 total\n"
     ]
    },
    {
     "name": "stderr",
     "output_type": "stream",
     "text": [
      "\n"
     ]
    }
   ],
   "source": [
    "list_label_jsons = sas_blob_utils.list_blobs_in_container(\n",
    "    container_uri=container_uri,\n",
    "    blob_prefix='public_datasets/xBD/raw',  # includes raw/ and raw_tier3/\n",
    "    blob_suffix='_post_disaster.json'\n",
    ")  "
   ]
  },
  {
   "cell_type": "code",
   "execution_count": null,
   "metadata": {},
   "outputs": [
    {
     "data": {
      "text/plain": [
       "'public_datasets/xBD/raw/hold/labels/hurricane-florence_00000429_post_disaster.json'"
      ]
     },
     "execution_count": 6,
     "metadata": {},
     "output_type": "execute_result"
    }
   ],
   "source": [
    "list_label_jsons[100]"
   ]
  },
  {
   "cell_type": "code",
   "execution_count": null,
   "metadata": {},
   "outputs": [],
   "source": [
    "disaster_to_li = defaultdict(list)\n",
    "\n",
    "for full_path in list_label_jsons:\n",
    "    rel_path = full_path.split('public_datasets/xBD/')[1]\n",
    "    tile_name = rel_path.split('_post_disaster.json')[0]\n",
    "    basename = os.path.basename(rel_path)\n",
    "    disaster_name = basename.split('_')[0]\n",
    "    disaster_to_li[disaster_name].append(tile_name)"
   ]
  },
  {
   "cell_type": "code",
   "execution_count": null,
   "metadata": {},
   "outputs": [
    {
     "data": {
      "text/plain": [
       "dict_keys(['guatemala-volcano', 'hurricane-florence', 'hurricane-harvey', 'hurricane-matthew', 'hurricane-michael', 'mexico-earthquake', 'midwest-flooding', 'palu-tsunami', 'santa-rosa-wildfire', 'socal-fire', 'joplin-tornado', 'lower-puna-volcano', 'moore-tornado', 'nepal-flooding', 'pinery-bushfire', 'portugal-wildfire', 'sunda-tsunami', 'tuscaloosa-tornado', 'woolsey-fire'])"
      ]
     },
     "execution_count": 10,
     "metadata": {},
     "output_type": "execute_result"
    }
   ],
   "source": [
    "disaster_to_li.keys()"
   ]
  },
  {
   "cell_type": "code",
   "execution_count": null,
   "metadata": {},
   "outputs": [
    {
     "data": {
      "text/plain": [
       "'raw_tier3/labels/pinery-bushfire_00000100'"
      ]
     },
     "execution_count": 11,
     "metadata": {},
     "output_type": "execute_result"
    }
   ],
   "source": [
    "disaster_to_li['pinery-bushfire'][100]"
   ]
  },
  {
   "cell_type": "code",
   "execution_count": null,
   "metadata": {},
   "outputs": [],
   "source": []
  },
  {
   "cell_type": "code",
   "execution_count": 14,
   "metadata": {},
   "outputs": [
    {
     "ename": "NameError",
     "evalue": "name 'disaster_to_li' is not defined",
     "output_type": "error",
     "traceback": [
      "\u001b[1;31m---------------------------------------------------------------------------\u001b[0m",
      "\u001b[1;31mNameError\u001b[0m                                 Traceback (most recent call last)",
      "\u001b[1;32m~\\AppData\\Local\\Temp\\ipykernel_8928\\774525921.py\u001b[0m in \u001b[0;36m<module>\u001b[1;34m\u001b[0m\n\u001b[0;32m      1\u001b[0m \u001b[0mother_splits\u001b[0m \u001b[1;33m=\u001b[0m \u001b[0mdefaultdict\u001b[0m\u001b[1;33m(\u001b[0m\u001b[0mdict\u001b[0m\u001b[1;33m)\u001b[0m  \u001b[1;31m# disasters other than the wind disasters to train/val/test\u001b[0m\u001b[1;33m\u001b[0m\u001b[1;33m\u001b[0m\u001b[0m\n\u001b[0;32m      2\u001b[0m \u001b[1;33m\u001b[0m\u001b[0m\n\u001b[1;32m----> 3\u001b[1;33m \u001b[1;32mfor\u001b[0m \u001b[0mdisaster_name\u001b[0m\u001b[1;33m,\u001b[0m \u001b[0mfiles\u001b[0m \u001b[1;32min\u001b[0m \u001b[0mdisaster_to_li\u001b[0m\u001b[1;33m.\u001b[0m\u001b[0mitems\u001b[0m\u001b[1;33m(\u001b[0m\u001b[1;33m)\u001b[0m\u001b[1;33m:\u001b[0m\u001b[1;33m\u001b[0m\u001b[1;33m\u001b[0m\u001b[0m\n\u001b[0m\u001b[0;32m      4\u001b[0m \u001b[1;33m\u001b[0m\u001b[0m\n\u001b[0;32m      5\u001b[0m     \u001b[1;32mif\u001b[0m \u001b[0mdisaster_name\u001b[0m \u001b[1;32min\u001b[0m \u001b[0mwind_disasters\u001b[0m\u001b[1;33m:\u001b[0m\u001b[1;33m\u001b[0m\u001b[1;33m\u001b[0m\u001b[0m\n",
      "\u001b[1;31mNameError\u001b[0m: name 'disaster_to_li' is not defined"
     ]
    }
   ],
   "source": [
    "other_splits = defaultdict(dict)  # disasters other than the wind disasters to train/val/test\n",
    "\n",
    "for disaster_name, files in disaster_to_li.items():\n",
    "    \n",
    "    if disaster_name in wind_disasters:\n",
    "        continue\n",
    "    \n",
    "    shuffle(files)\n",
    "    \n",
    "    num_train_tiles = math.ceil(0.8 * len(files))\n",
    "    num_val_tiles = math.ceil(0.1 * len(files))\n",
    "    \n",
    "    other_splits[disaster_name]['train'] = sorted(files[:num_train_tiles])\n",
    "    other_splits[disaster_name]['val'] = sorted(files[num_train_tiles:num_train_tiles + num_val_tiles])\n",
    "    other_splits[disaster_name]['test'] = sorted(files[num_train_tiles + num_val_tiles:])\n",
    "    \n",
    "    print(f\"{disaster_name}, train {len(other_splits[disaster_name]['train'])}, val {len(other_splits[disaster_name]['val'])}, test {len(other_splits[disaster_name]['test'])}\")"
   ]
  },
  {
   "cell_type": "code",
   "execution_count": null,
   "metadata": {},
   "outputs": [
    {
     "data": {
      "text/plain": [
       "14"
      ]
     },
     "execution_count": 17,
     "metadata": {},
     "output_type": "execute_result"
    }
   ],
   "source": [
    "len(other_splits)"
   ]
  },
  {
   "cell_type": "code",
   "execution_count": null,
   "metadata": {},
   "outputs": [],
   "source": [
    "with open('./constants/splits/wind_disaster_splits.json') as f:\n",
    "    wind_splits = json.load(f)"
   ]
  },
  {
   "cell_type": "code",
   "execution_count": null,
   "metadata": {},
   "outputs": [
    {
     "data": {
      "text/plain": [
       "dict_keys(['hurricane-matthew', 'hurricane-michael', 'joplin-tornado', 'moore-tornado', 'tuscaloosa-tornado'])"
      ]
     },
     "execution_count": 16,
     "metadata": {},
     "output_type": "execute_result"
    }
   ],
   "source": [
    "wind_splits.keys()"
   ]
  },
  {
   "cell_type": "code",
   "execution_count": null,
   "metadata": {},
   "outputs": [],
   "source": [
    "for disaster_name, splits in wind_splits.items():\n",
    "    other_splits[disaster_name] = splits"
   ]
  },
  {
   "cell_type": "code",
   "execution_count": null,
   "metadata": {},
   "outputs": [
    {
     "data": {
      "text/plain": [
       "19"
      ]
     },
     "execution_count": 19,
     "metadata": {},
     "output_type": "execute_result"
    }
   ],
   "source": [
    "len(other_splits)"
   ]
  },
  {
   "cell_type": "code",
   "execution_count": null,
   "metadata": {},
   "outputs": [],
   "source": [
    "with open('./constants/splits/all_disaster_splits.json', 'w') as f:\n",
    "    json.dump(other_splits, f, indent=4)"
   ]
  },
  {
   "cell_type": "code",
   "execution_count": null,
   "metadata": {},
   "outputs": [],
   "source": []
  }
 ],
 "metadata": {
  "interpreter": {
   "hash": "33dc179c4e72351e6704d54c400162d0593d15c1e75dec120b983d8666cf59c0"
  },
  "kernelspec": {
   "display_name": "Python 3.7.11 ('spatial')",
   "language": "python",
   "name": "python3"
  },
  "language_info": {
   "codemirror_mode": {
    "name": "ipython",
    "version": 3
   },
   "file_extension": ".py",
   "mimetype": "text/x-python",
   "name": "python",
   "nbconvert_exporter": "python",
   "pygments_lexer": "ipython3",
   "version": "3.7.11"
  }
 },
 "nbformat": 4,
 "nbformat_minor": 4
}
