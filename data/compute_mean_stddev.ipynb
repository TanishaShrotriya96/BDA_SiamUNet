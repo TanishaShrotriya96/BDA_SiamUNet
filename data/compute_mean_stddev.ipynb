{
 "cells": [
  {
   "cell_type": "code",
   "execution_count": 18,
   "metadata": {},
   "outputs": [],
   "source": [
    "# Copyright (c) Microsoft Corporation. All rights reserved.\n",
    "# Licensed under the MIT License."
   ]
  },
  {
   "cell_type": "code",
   "execution_count": 19,
   "metadata": {},
   "outputs": [
    {
     "name": "stdout",
     "output_type": "stream",
     "text": [
      "The autoreload extension is already loaded. To reload it, use:\n",
      "  %reload_ext autoreload\n"
     ]
    }
   ],
   "source": [
    "from IPython.core.interactiveshell import InteractiveShell\n",
    "InteractiveShell.ast_node_interactivity = 'all' # default is ‘last_expr’\n",
    "\n",
    "%load_ext autoreload\n",
    "%autoreload 2"
   ]
  },
  {
   "cell_type": "code",
   "execution_count": 20,
   "metadata": {},
   "outputs": [],
   "source": [
    "import json\n",
    "from PIL import Image\n",
    "from glob import glob\n",
    "import numpy as np\n",
    "import torch\n",
    "from torch.utils.data import Dataset\n",
    "import torchvision.transforms.functional as TF\n",
    "from skimage import transform\n",
    "from torchvision import transforms\n",
    "import random\n",
    "from torch.utils.data import DataLoader"
   ]
  },
  {
   "cell_type": "code",
   "execution_count": 21,
   "metadata": {},
   "outputs": [],
   "source": [
    "class AverageMeter(object):\n",
    "    \"\"\"Computes and stores the average and current value\n",
    "    https://github.com/pytorch/examples/blob/master/imagenet/main.py\n",
    "    \"\"\"\n",
    "    def __init__(self):\n",
    "        self.reset()\n",
    "\n",
    "    def reset(self):\n",
    "        self.val = 0\n",
    "        self.avg = 0\n",
    "        self.sum = 0\n",
    "        self.count = 0\n",
    "\n",
    "    def update(self, val, n=1):\n",
    "        \"\"\"\n",
    "\n",
    "        Args:\n",
    "            val: mini-batch loss or accuracy value\n",
    "            n: mini-batch size\n",
    "        \"\"\"\n",
    "        self.val = val\n",
    "        self.sum += val \n",
    "        self.count += n\n",
    "        self.avg = self.sum / self.count"
   ]
  },
  {
   "cell_type": "code",
   "execution_count": 22,
   "metadata": {},
   "outputs": [],
   "source": [
    "#all_disaster_splits_json_filename = './all_disaster_splits.json'\n",
    "all_disaster_splits_json_filename = '../constants/splits/final_mdl_all_disaster_splits.json'\n",
    "label_map_json_file = '../constants/class_lists/xBD_label_map.json'\n",
    "\n",
    "def load_json_files(json_filename):\n",
    "    with open(json_filename) as f:\n",
    "        file_content = json.load(f)\n",
    "    return file_content\n",
    "\n",
    "splits = load_json_files(all_disaster_splits_json_filename)\n",
    "label_map = load_json_files(label_map_json_file)"
   ]
  },
  {
   "cell_type": "code",
   "execution_count": 23,
   "metadata": {},
   "outputs": [
    {
     "data": {
      "text/plain": [
       "dict_keys(['guatemala-volcano', 'hurricane-matthew', 'mexico-earthquake'])"
      ]
     },
     "execution_count": 23,
     "metadata": {},
     "output_type": "execute_result"
    },
    {
     "data": {
      "text/plain": [
       "626"
      ]
     },
     "execution_count": 23,
     "metadata": {},
     "output_type": "execute_result"
    },
    {
     "data": {
      "text/plain": [
       "['raw/hold/labels/guatemala-volcano_00000012',\n",
       " 'raw/hold/labels/guatemala-volcano_00000014',\n",
       " 'raw/hold/labels/guatemala-volcano_00000020',\n",
       " 'raw/hold/labels/guatemala-volcano_00000022',\n",
       " 'raw/test/labels/guatemala-volcano_00000003',\n",
       " 'raw/test/labels/guatemala-volcano_00000009',\n",
       " 'raw/test/labels/guatemala-volcano_00000011',\n",
       " 'raw/test/labels/guatemala-volcano_00000021',\n",
       " 'raw/train/labels/guatemala-volcano_00000000',\n",
       " 'raw/train/labels/guatemala-volcano_00000001',\n",
       " 'raw/train/labels/guatemala-volcano_00000002',\n",
       " 'raw/train/labels/guatemala-volcano_00000006',\n",
       " 'raw/train/labels/guatemala-volcano_00000008',\n",
       " 'raw/train/labels/guatemala-volcano_00000013',\n",
       " 'raw/train/labels/guatemala-volcano_00000015',\n",
       " 'raw/train/labels/guatemala-volcano_00000016',\n",
       " 'raw/train/labels/guatemala-volcano_00000017',\n",
       " 'raw/train/labels/guatemala-volcano_00000018',\n",
       " 'raw/train/labels/guatemala-volcano_00000019']"
      ]
     },
     "execution_count": 23,
     "metadata": {},
     "output_type": "execute_result"
    }
   ],
   "source": [
    "# get list of train, val, test images\n",
    "splits.keys()\n",
    "all_images_ls = [] \n",
    "for item, val in splits.items():\n",
    "    all_images_ls += val['train'] \n",
    "    all_images_ls += val['test'] \n",
    "    all_images_ls += val['val'] \n",
    "\n",
    "\n",
    "len(all_images_ls)\n",
    "all_images_ls[1:20]"
   ]
  },
  {
   "cell_type": "code",
   "execution_count": 24,
   "metadata": {},
   "outputs": [],
   "source": [
    "class DisasterDataset_img(Dataset):\n",
    "    def __init__(self, data_dir, data_dir_ls, transform:bool, scale=1, mask_suffix=''):\n",
    "        \n",
    "        self.data_dir = data_dir\n",
    "        self.dataset_sub_dir = data_dir_ls\n",
    "        self.scale = scale\n",
    "        self.transform = transform\n",
    "        \n",
    "        assert 0 < scale <= 1, 'Scale must be between 0 and 1'\n",
    "\n",
    "    def __len__(self):\n",
    "        return len(self.dataset_sub_dir)\n",
    "        \n",
    "        return img_trans\n",
    "    \n",
    "    \n",
    "    def __getitem__(self, i):\n",
    "        \n",
    "        imgs_dir = self.data_dir + self.dataset_sub_dir[i].replace('labels', 'images')\n",
    "\n",
    "        idx = imgs_dir\n",
    "        \n",
    "        pre_img_file_name = imgs_dir + '_pre_disaster'\n",
    "        pre_img_file = glob(pre_img_file_name + '.*')\n",
    "\n",
    "        post_img_file_name = pre_img_file_name.replace('pre', 'post')\n",
    "        post_img_file = glob(post_img_file_name + '.*')\n",
    "\n",
    "        assert len(pre_img_file) == 1, \\\n",
    "            f'Either no image or multiple images found for the ID {idx}: {pre_img_file}'\n",
    "        assert len(post_img_file) == 1, \\\n",
    "            f'Either no post disaster image or multiple images found for the ID {idx}: {post_img_file}'\n",
    "\n",
    "        pre_img = np.array(Image.open(pre_img_file[0]))\n",
    "        post_img = np.array(Image.open(post_img_file[0]))\n",
    "\n",
    "        assert pre_img.size == post_img.size, \\\n",
    "            f'Pre_ & _post disaster Images {idx} should be the same size, but are {pre_img.size} and {post_img.size}'\n",
    "\n",
    "        return {'pre_image': pre_img, 'post_image': post_img}, {'pre_img_file_name': pre_img_file_name, 'post_img_file_name':post_img_file_name}"
   ]
  },
  {
   "cell_type": "code",
   "execution_count": 25,
   "metadata": {},
   "outputs": [
    {
     "name": "stdout",
     "output_type": "stream",
     "text": [
      "xBD_disaster_dataset length: 626\n"
     ]
    },
    {
     "data": {
      "text/plain": [
       "83.72342045162432"
      ]
     },
     "execution_count": 25,
     "metadata": {},
     "output_type": "execute_result"
    },
    {
     "data": {
      "text/plain": [
       "92.20505311085394"
      ]
     },
     "execution_count": 25,
     "metadata": {},
     "output_type": "execute_result"
    },
    {
     "data": {
      "text/plain": [
       "66.50421923798875"
      ]
     },
     "execution_count": 25,
     "metadata": {},
     "output_type": "execute_result"
    }
   ],
   "source": [
    "# compute mean\n",
    "\n",
    "mean_c1 = AverageMeter()\n",
    "mean_c2 = AverageMeter()\n",
    "mean_c3 = AverageMeter()\n",
    "\n",
    "#data_dir = './xBD_all/' \n",
    "data_dir = '../../splits/final_mdl_all_disaster_splits/'\n",
    "xBD_all = DisasterDataset_img(data_dir, all_images_ls, transform=True)\n",
    "print('xBD_disaster_dataset length: {}'.format(len(xBD_all)))\n",
    "\n",
    "for batch_idx, data in enumerate(xBD_all):\n",
    "\n",
    "    data = data[0]\n",
    "    x_pre = data['pre_image']\n",
    "    x_post = data['post_image']\n",
    "    \n",
    "    mean_c1.update(x_pre[:,:,0].sum(), x_pre[:,:,0].size)\n",
    "    mean_c1.update(x_post[:,:,0].sum(), x_post[:,:,0].size)\n",
    "\n",
    "    mean_c2.update(x_pre[:,:,1].sum(), x_pre[:,:,1].size)\n",
    "    mean_c2.update(x_post[:,:,1].sum(), x_post[:,:,1].size)\n",
    "\n",
    "    mean_c3.update(x_pre[:,:,2].sum(), x_pre[:,:,2].size)\n",
    "    mean_c3.update(x_post[:,:,2].sum(), x_post[:,:,2].size)\n",
    "\n",
    "\n",
    "mean_c1.avg\n",
    "mean_c2.avg\n",
    "mean_c3.avg"
   ]
  },
  {
   "cell_type": "code",
   "execution_count": 26,
   "metadata": {},
   "outputs": [
    {
     "data": {
      "text/plain": [
       "40.078274006754725"
      ]
     },
     "execution_count": 26,
     "metadata": {},
     "output_type": "execute_result"
    },
    {
     "data": {
      "text/plain": [
       "36.16795599937127"
      ]
     },
     "execution_count": 26,
     "metadata": {},
     "output_type": "execute_result"
    },
    {
     "data": {
      "text/plain": [
       "35.052334728431674"
      ]
     },
     "execution_count": 26,
     "metadata": {},
     "output_type": "execute_result"
    }
   ],
   "source": [
    "# compute stddev\n",
    "\n",
    "stddev_c1 = AverageMeter()\n",
    "stddev_c2 = AverageMeter()\n",
    "stddev_c3 = AverageMeter()\n",
    "\n",
    "\n",
    "for batch_idx, data in enumerate(xBD_all):\n",
    "    data = data[0]\n",
    "\n",
    "    x_pre = data['pre_image']\n",
    "    x_post = data['post_image']\n",
    "    \n",
    "    diff_pre = np.power(x_pre[:,:,0] - mean_c1.avg, 2.0) \n",
    "    diff_post = np.power(x_post[:,:,0] - mean_c1.avg, 2.0) \n",
    "    stddev_c1.update(diff_pre.sum(), diff_pre.size)\n",
    "    stddev_c1.update(diff_post.sum(), diff_post.size)\n",
    "\n",
    "    diff_pre = np.power(x_pre[:,:,1] - mean_c2.avg, 2.0) \n",
    "    diff_post = np.power(x_post[:,:,1] - mean_c2.avg, 2.0) \n",
    "    stddev_c2.update(diff_pre.sum(), diff_pre.size)\n",
    "    stddev_c2.update(diff_post.sum(), diff_post.size)\n",
    "\n",
    "    diff_pre = np.power(x_pre[:,:,2] - mean_c3.avg, 2.0) \n",
    "    diff_post = np.power(x_post[:,:,2] - mean_c3.avg, 2.0)\n",
    "    stddev_c3.update(diff_pre.sum(), diff_pre.size)\n",
    "    stddev_c3.update(diff_post.sum(), diff_post.size)\n",
    "\n",
    "\n",
    "stddev_c1.avg ** 0.5\n",
    "stddev_c2.avg ** 0.5\n",
    "stddev_c3.avg ** 0.5"
   ]
  },
  {
   "cell_type": "code",
   "execution_count": 27,
   "metadata": {},
   "outputs": [
    {
     "data": {
      "text/plain": [
       "{'mean': {'c1': 83.72342045162432,\n",
       "  'c2': 92.20505311085394,\n",
       "  'c3': 66.50421923798875},\n",
       " 'std_dev': {'c1': 40.078274006754725,\n",
       "  'c2': 36.16795599937127,\n",
       "  'c3': 35.052334728431674}}"
      ]
     },
     "execution_count": 27,
     "metadata": {},
     "output_type": "execute_result"
    }
   ],
   "source": [
    "# save as json\n",
    "\n",
    "mean_stdev_dict = {'mean':{'c1': mean_c1.avg, 'c2': mean_c2.avg, 'c3': mean_c3.avg},\n",
    "              'std_dev':{'c1': stddev_c1.avg** 0.5, 'c2': stddev_c2.avg** 0.5, 'c3': stddev_c3.avg** 0.5}}\n",
    "mean_stdev_dict\n",
    "\n",
    "with open('../constants/splits/all_disaster_mean_stddev.json', 'w') as f:\n",
    "    json.dump(mean_stdev_dict, f, indent=4)"
   ]
  },
  {
   "cell_type": "code",
   "execution_count": 28,
   "metadata": {},
   "outputs": [
    {
     "data": {
      "text/plain": [
       "numpy.ndarray"
      ]
     },
     "execution_count": 28,
     "metadata": {},
     "output_type": "execute_result"
    },
    {
     "data": {
      "text/plain": [
       "(1024, 1024, 3)"
      ]
     },
     "execution_count": 28,
     "metadata": {},
     "output_type": "execute_result"
    },
    {
     "data": {
      "text/plain": [
       "1048576"
      ]
     },
     "execution_count": 28,
     "metadata": {},
     "output_type": "execute_result"
    },
    {
     "data": {
      "text/plain": [
       "(1024, 1024)"
      ]
     },
     "execution_count": 28,
     "metadata": {},
     "output_type": "execute_result"
    },
    {
     "data": {
      "text/plain": [
       "73240303"
      ]
     },
     "execution_count": 28,
     "metadata": {},
     "output_type": "execute_result"
    },
    {
     "data": {
      "text/plain": [
       "array([[ 30.27657955,  15.27657955,  19.27657955, ...,  -5.72342045,\n",
       "        -11.72342045,  -5.72342045],\n",
       "       [ 54.27657955,  -1.72342045,  16.27657955, ..., -14.72342045,\n",
       "         -9.72342045,  -3.72342045],\n",
       "       [ 56.27657955,  -4.72342045,  16.27657955, ..., -20.72342045,\n",
       "        -21.72342045, -12.72342045],\n",
       "       ...,\n",
       "       [-83.72342045, -83.72342045, -83.72342045, ..., -83.72342045,\n",
       "        -83.72342045, -83.72342045],\n",
       "       [-83.72342045, -83.72342045, -83.72342045, ..., -83.72342045,\n",
       "        -83.72342045, -83.72342045],\n",
       "       [-83.72342045, -83.72342045, -83.72342045, ..., -83.72342045,\n",
       "        -83.72342045, -83.72342045]])"
      ]
     },
     "execution_count": 28,
     "metadata": {},
     "output_type": "execute_result"
    },
    {
     "data": {
      "text/plain": [
       "4268129385.3265843"
      ]
     },
     "execution_count": 28,
     "metadata": {},
     "output_type": "execute_result"
    },
    {
     "data": {
      "text/plain": [
       "1048576"
      ]
     },
     "execution_count": 28,
     "metadata": {},
     "output_type": "execute_result"
    }
   ],
   "source": [
    "# test a few things\n",
    "\n",
    "type(x_post)\n",
    "x_pre.shape\n",
    "\n",
    "x_pre[:,:,0].size\n",
    "x_pre[:,:,0].shape\n",
    "x_pre[:,:,0].sum()\n",
    "\n",
    "x_pre[:,:,0] - mean_c1.avg\n",
    "out = np.power(x_pre[:,:,0] - mean_c1.avg, 2.0) \n",
    "out.sum()\n",
    "out.size\n"
   ]
  },
  {
   "cell_type": "code",
   "execution_count": 29,
   "metadata": {},
   "outputs": [
    {
     "data": {
      "image/png": "[encoded data removed]",
      "text/plain": [
       "<Figure size 432x288 with 1 Axes>"
      ]
     },
     "metadata": {
      "needs_background": "light"
     },
     "output_type": "display_data"
    }
   ],
   "source": [
    "# plot histogram of the channels for one image #entire dataset\n",
    "from skimage import io\n",
    "import matplotlib.pyplot as plt\n",
    "image = x_pre\n",
    "_ = plt.hist(image[:, :, 0].ravel(), bins = 256, color = 'red', alpha = 0.5)\n",
    "_ = plt.hist(image[:, :, 1].ravel(), bins = 256, color = 'Green', alpha = 0.5)\n",
    "_ = plt.hist(image[:, :, 2].ravel(), bins = 256, color = 'Blue', alpha = 0.5)\n",
    "_ = plt.xlabel('Intensity Value')\n",
    "_ = plt.ylabel('Count')\n",
    "_ = plt.legend(['Red_Channel', 'Green_Channel', 'Blue_Channel'])\n",
    "plt.show()"
   ]
  },
  {
   "cell_type": "markdown",
   "metadata": {},
   "source": [
    "# Compute mean & stddev for each tile"
   ]
  },
  {
   "cell_type": "code",
   "execution_count": 30,
   "metadata": {},
   "outputs": [
    {
     "name": "stdout",
     "output_type": "stream",
     "text": [
      "xBD_disaster_dataset length: 626\n"
     ]
    }
   ],
   "source": [
    "# compute mean actual values\n",
    "\n",
    "mean_std_tile = {}\n",
    "\n",
    "xBD_all = DisasterDataset_img(data_dir, all_images_ls, transform=True)\n",
    "print('xBD_disaster_dataset length: {}'.format(len(xBD_all)))\n",
    "\n",
    "for batch_idx, data in enumerate(xBD_all):\n",
    "    \n",
    "    x_pre = data[0]['pre_image']\n",
    "    x_post = data[0]['post_image']\n",
    "    x_pre_filename = data[1]['pre_img_file_name'].replace('xBD', 'xBD_sliced')\n",
    "    x_post_filename = data[1]['post_img_file_name'].replace('xBD', 'xBD_sliced')\n",
    "    \n",
    "    mean_std_tile[x_pre_filename]=[(x_pre[:,:,0].mean(), x_pre[:,:,1].mean(), x_pre[:,:,2].mean()), (x_pre[:,:,0].std(), x_pre[:,:,1].std(), x_pre[:,:,2].std())]\n",
    "    mean_std_tile[x_post_filename]= [(x_post[:,:,0].mean(), x_post[:,:,1].mean(), x_post[:,:,2].mean()), (x_post[:,:,0].std(), x_post[:,:,1].std(), x_post[:,:,2].std())]\n",
    "\n",
    "with open('../constants/splits/all_disaster_mean_stddev_tiles.json', 'w') as f:\n",
    "    json.dump(mean_std_tile, f, indent=4)"
   ]
  },
  {
   "cell_type": "code",
   "execution_count": 31,
   "metadata": {},
   "outputs": [
    {
     "name": "stdout",
     "output_type": "stream",
     "text": [
      "xBD_disaster_dataset length: 626\n"
     ]
    }
   ],
   "source": [
    "# compute mean [0,1]\n",
    "\n",
    "mean_std_tile = {}\n",
    "eps = np.finfo(float).eps\n",
    "xBD_all = DisasterDataset_img(data_dir, all_images_ls, transform=True)\n",
    "print('xBD_disaster_dataset length: {}'.format(len(xBD_all)))\n",
    "\n",
    "for batch_idx, data in enumerate(xBD_all):\n",
    "    \n",
    "    x_pre = data[0]['pre_image']/255.0\n",
    "    x_post = data[0]['post_image']/255.0\n",
    "    x_pre_filename = data[1]['pre_img_file_name'].replace('xBD', 'xBD_sliced')\n",
    "    x_post_filename = data[1]['post_img_file_name'].replace('xBD', 'xBD_sliced')\n",
    "    \n",
    "    mean_std_tile[x_pre_filename]=[(x_pre[:,:,0].mean(), x_pre[:,:,1].mean(), x_pre[:,:,2].mean()), (max(eps, x_pre[:,:,0].std()), max(eps, x_pre[:,:,1].std()), max(eps, x_pre[:,:,2].std()))]\n",
    "    mean_std_tile[x_post_filename]= [(x_post[:,:,0].mean(), x_post[:,:,1].mean(), x_post[:,:,2].mean()), (x_post[:,:,0].std(), x_post[:,:,1].std(), x_post[:,:,2].std())]\n",
    "\n",
    "with open('../constants/splits/all_disaster_mean_stddev_tiles_0_1.json', 'w') as f:\n",
    "    json.dump(mean_std_tile, f, indent=4)"
   ]
  },
  {
   "cell_type": "code",
   "execution_count": 32,
   "metadata": {},
   "outputs": [
    {
     "data": {
      "text/plain": [
       "0.0"
      ]
     },
     "execution_count": 32,
     "metadata": {},
     "output_type": "execute_result"
    }
   ],
   "source": [
    "eps = np.finfo(float).eps\n",
    "0/eps"
   ]
  },
  {
   "cell_type": "code",
   "execution_count": 33,
   "metadata": {},
   "outputs": [
    {
     "name": "stdout",
     "output_type": "stream",
     "text": [
      "xBD_disaster_dataset length: 626\n"
     ]
    },
    {
     "data": {
      "text/plain": [
       "(92.60825061798096, 112.36695575714111, 81.91974258422852)"
      ]
     },
     "execution_count": 33,
     "metadata": {},
     "output_type": "execute_result"
    },
    {
     "data": {
      "text/plain": [
       "(45.83748581915052, 42.44392837800163, 50.27911567645592)"
      ]
     },
     "execution_count": 33,
     "metadata": {},
     "output_type": "execute_result"
    },
    {
     "data": {
      "text/plain": [
       "array([[[ 81, 101,  56],\n",
       "        [ 80,  99,  55],\n",
       "        [ 75,  97,  54],\n",
       "        ...,\n",
       "        [198, 212, 210],\n",
       "        [199, 214, 211],\n",
       "        [199, 213, 211]],\n",
       "\n",
       "       [[ 83, 105,  58],\n",
       "        [ 81, 102,  57],\n",
       "        [ 75,  97,  54],\n",
       "        ...,\n",
       "        [201, 216, 214],\n",
       "        [200, 215, 213],\n",
       "        [201, 216, 214]],\n",
       "\n",
       "       [[ 77, 100,  54],\n",
       "        [ 78, 101,  55],\n",
       "        [ 73,  97,  52],\n",
       "        ...,\n",
       "        [197, 212, 210],\n",
       "        [198, 213, 211],\n",
       "        [198, 213, 210]],\n",
       "\n",
       "       ...,\n",
       "\n",
       "       [[ 37,  56,  38],\n",
       "        [ 32,  51,  33],\n",
       "        [ 42,  62,  40],\n",
       "        ...,\n",
       "        [135, 154, 133],\n",
       "        [131, 150, 129],\n",
       "        [133, 152, 131]],\n",
       "\n",
       "       [[ 39,  57,  38],\n",
       "        [ 27,  43,  27],\n",
       "        [ 26,  42,  26],\n",
       "        ...,\n",
       "        [132, 151, 130],\n",
       "        [129, 148, 127],\n",
       "        [133, 151, 131]],\n",
       "\n",
       "       [[ 26,  42,  26],\n",
       "        [ 32,  49,  32],\n",
       "        [ 28,  44,  28],\n",
       "        ...,\n",
       "        [127, 147, 126],\n",
       "        [131, 150, 129],\n",
       "        [125, 146, 125]]], dtype=uint8)"
      ]
     },
     "execution_count": 33,
     "metadata": {},
     "output_type": "execute_result"
    },
    {
     "data": {
      "text/plain": [
       "tensor([[[-2.0134, -2.0135, -2.0139,  ..., -2.0034, -2.0033, -2.0033],\n",
       "         [-2.0133, -2.0134, -2.0139,  ..., -2.0032, -2.0032, -2.0032],\n",
       "         [-2.0138, -2.0137, -2.0141,  ..., -2.0035, -2.0034, -2.0034],\n",
       "         ...,\n",
       "         [-2.0172, -2.0176, -2.0168,  ..., -2.0088, -2.0092, -2.0090],\n",
       "         [-2.0170, -2.0181, -2.0181,  ..., -2.0091, -2.0093, -2.0090],\n",
       "         [-2.0181, -2.0176, -2.0180,  ..., -2.0095, -2.0092, -2.0097]],\n",
       "\n",
       "        [[-2.6381, -2.6383, -2.6385,  ..., -2.6278, -2.6276, -2.6277],\n",
       "         [-2.6377, -2.6380, -2.6385,  ..., -2.6275, -2.6276, -2.6275],\n",
       "         [-2.6382, -2.6381, -2.6385,  ..., -2.6278, -2.6277, -2.6277],\n",
       "         ...,\n",
       "         [-2.6422, -2.6427, -2.6417,  ..., -2.6332, -2.6336, -2.6334],\n",
       "         [-2.6422, -2.6434, -2.6435,  ..., -2.6335, -2.6337, -2.6335],\n",
       "         [-2.6435, -2.6429, -2.6434,  ..., -2.6338, -2.6336, -2.6339]],\n",
       "\n",
       "        [[-1.6249, -1.6250, -1.6251,  ..., -1.6129, -1.6128, -1.6128],\n",
       "         [-1.6248, -1.6249, -1.6251,  ..., -1.6126, -1.6127, -1.6126],\n",
       "         [-1.6251, -1.6250, -1.6252,  ..., -1.6129, -1.6128, -1.6129],\n",
       "         ...,\n",
       "         [-1.6263, -1.6267, -1.6262,  ..., -1.6189, -1.6192, -1.6191],\n",
       "         [-1.6263, -1.6272, -1.6273,  ..., -1.6192, -1.6194, -1.6191],\n",
       "         [-1.6273, -1.6268, -1.6271,  ..., -1.6195, -1.6192, -1.6196]]])"
      ]
     },
     "execution_count": 33,
     "metadata": {},
     "output_type": "execute_result"
    }
   ],
   "source": [
    "# test a few things\n",
    "from torchvision import transforms\n",
    "\n",
    "mean_std_tile = {}\n",
    "\n",
    "xBD_all = DisasterDataset_img(data_dir, all_images_ls, transform=True)\n",
    "print('xBD_disaster_dataset length: {}'.format(len(xBD_all)))\n",
    "\n",
    "for batch_idx, data in enumerate(xBD_all):\n",
    "    \n",
    "    x_pre = data[0]['pre_image']\n",
    "    x_post = data[0]['post_image']\n",
    "    x_pre_filename = data[1]['pre_img_file_name'].replace('xBD', 'xBD_sliced')\n",
    "    x_post_filename = data[1]['post_img_file_name'].replace('xBD', 'xBD_sliced')\n",
    "    \n",
    "    mean_std_tile[x_pre_filename]=[(x_pre[:,:,0].mean(), x_pre[:,:,1].mean(), x_pre[:,:,2].mean()), (x_pre[:,:,0].std(), x_pre[:,:,1].std(), x_pre[:,:,2].std())]\n",
    "    mean_std_tile[x_post_filename]= [(x_post[:,:,0].mean(), x_post[:,:,1].mean(), x_post[:,:,2].mean()), (x_post[:,:,0].std(), x_post[:,:,1].std(), x_post[:,:,2].std())]\n",
    "    \n",
    "    mean_pre = mean_std_tile[x_pre_filename][0]\n",
    "    stddev_pre = mean_std_tile[x_pre_filename][1]\n",
    "    mean_pre\n",
    "    stddev_pre\n",
    "    norm_pre = transforms.Compose([\n",
    "                transforms.ToTensor(),\n",
    "                transforms.Normalize(mean=mean_pre, std=stddev_pre),\n",
    "    ])\n",
    "    make_img_pre = transforms.Compose([\n",
    "                transforms.ToTensor(),\n",
    "                transforms.ToPILImage()])\n",
    "    x_pre\n",
    "    pre_img = norm_pre(x_pre)\n",
    "    pre_img\n",
    "    break"
   ]
  },
  {
   "cell_type": "code",
   "execution_count": 34,
   "metadata": {},
   "outputs": [
    {
     "data": {
      "text/plain": [
       "10"
      ]
     },
     "execution_count": 34,
     "metadata": {},
     "output_type": "execute_result"
    }
   ],
   "source": [
    "max(0,10)"
   ]
  }
 ],
 "metadata": {
  "interpreter": {
   "hash": "33dc179c4e72351e6704d54c400162d0593d15c1e75dec120b983d8666cf59c0"
  },
  "kernelspec": {
   "display_name": "Python 3.7.11 ('spatial')",
   "language": "python",
   "name": "python3"
  },
  "language_info": {
   "codemirror_mode": {
    "name": "ipython",
    "version": 3
   },
   "file_extension": ".py",
   "mimetype": "text/x-python",
   "name": "python",
   "nbconvert_exporter": "python",
   "pygments_lexer": "ipython3",
   "version": "3.7.11"
  }
 },
 "nbformat": 4,
 "nbformat_minor": 4
}
